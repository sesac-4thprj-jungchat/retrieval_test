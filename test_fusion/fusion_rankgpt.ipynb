{
 "cells": [
  {
   "cell_type": "code",
   "execution_count": null,
   "metadata": {
    "vscode": {
     "languageId": "plaintext"
    }
   },
   "outputs": [],
   "source": [
    "# rankgpt\n",
    "\n",
    "from autoawq import AutoAWQForCausalLM, AutoAWQTokenizer\n",
    "\n",
    "model_name_or_path = \"TheBloke/openchat_3.5-AWQ\"\n",
    "tokenizer = AutoAWQTokenizer.from_pretrained(model_name_or_path, use_fast=False)\n",
    "model = AutoAWQForCausalLM.from_quantized(model_name_or_path, fuse_layers=True, trust_remote_code=True)\n",
    "\n",
    "prompt = \"안녕하세요, 무엇을 도와드릴까요?\"\n",
    "inputs = tokenizer(prompt, return_tensors=\"pt\")\n",
    "\n",
    "with torch.no_grad():\n",
    "    outputs = model.generate(**inputs, max_new_tokens=50)\n",
    "\n",
    "response = tokenizer.decode(outputs[0], skip_special_tokens=True)\n",
    "print(response)"
   ]
  }
 ],
 "metadata": {
  "language_info": {
   "name": "python"
  }
 },
 "nbformat": 4,
 "nbformat_minor": 2
}
